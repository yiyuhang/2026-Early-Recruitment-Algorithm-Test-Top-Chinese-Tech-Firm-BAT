{
 "cells": [
  {
   "cell_type": "code",
   "execution_count": 4,
   "id": "7ce07c21",
   "metadata": {},
   "outputs": [
    {
     "name": "stdout",
     "output_type": "stream",
     "text": [
      "最大权重路径和: 20\n",
      "路径: [(0, 0), (0, 1), (1, 1), (2, 1), (2, 2)]\n"
     ]
    }
   ],
   "source": [
    "# 一个方形网格，每个格子里有一个数字，表示该格子的权重\n",
    "# 目标是从左下角走到右上角，每次只能向右或向上走\n",
    "# 求从左下角到右上角的最大权重路径\n",
    "\n",
    "# 假设输入为二维列表 grid，n 行 n 列\n",
    "def max_weight_path_with_trace(grid):\n",
    "    n = len(grid)\n",
    "    # dp[i][j] 表示从左下角(0,0)到(i,j)的最大权重\n",
    "    dp = [[0]*n for _ in range(n)]\n",
    "    # path[i][j] 记录到(i,j)的前一个格子坐标\n",
    "    path = [[None]*n for _ in range(n)]\n",
    "    dp[0][0] = grid[0][0]\n",
    "    # 填充第一列（只能向上走）\n",
    "    for i in range(1, n):\n",
    "        dp[i][0] = dp[i-1][0] + grid[i][0]\n",
    "        path[i][0] = (i-1, 0)\n",
    "    # 填充第一行（只能向右走）\n",
    "    for j in range(1, n):\n",
    "        dp[0][j] = dp[0][j-1] + grid[0][j]\n",
    "        path[0][j] = (0, j-1)\n",
    "    # 其余格子\n",
    "    for i in range(1, n):\n",
    "        for j in range(1, n):\n",
    "            if dp[i-1][j] > dp[i][j-1]:\n",
    "                dp[i][j] = dp[i-1][j] + grid[i][j]\n",
    "                path[i][j] = (i-1, j)\n",
    "            else:\n",
    "                dp[i][j] = dp[i][j-1] + grid[i][j]\n",
    "                path[i][j] = (i, j-1)\n",
    "    # 回溯路径，从右上角(n-1, n-1)到左下角(0,0)\n",
    "    res_path = []\n",
    "    i, j = n-1, n-1\n",
    "    while (i, j) is not None:\n",
    "        res_path.append((i, j))\n",
    "        if path[i][j] is not None:\n",
    "            i, j = path[i][j]\n",
    "        else:\n",
    "            break\n",
    "    res_path.reverse()\n",
    "    return dp[n-1][n-1], res_path\n",
    "\n",
    "# 示例\n",
    "grid = [\n",
    "    [4, 2, 7],\n",
    "    [1, 9, 1],\n",
    "    [5, 3, 2]\n",
    "    # 你可以替换为任意 n x n 的权重矩阵\n",
    " ]\n",
    "max_sum, path = max_weight_path_with_trace(grid)\n",
    "print('最大权重路径和:', max_sum)\n",
    "print('路径:', path)"
   ]
  }
 ],
 "metadata": {
  "kernelspec": {
   "display_name": "base",
   "language": "python",
   "name": "python3"
  },
  "language_info": {
   "codemirror_mode": {
    "name": "ipython",
    "version": 3
   },
   "file_extension": ".py",
   "mimetype": "text/x-python",
   "name": "python",
   "nbconvert_exporter": "python",
   "pygments_lexer": "ipython3",
   "version": "3.12.4"
  }
 },
 "nbformat": 4,
 "nbformat_minor": 5
}
