{
 "cells": [
  {
   "cell_type": "code",
   "execution_count": 11,
   "id": "e5dcceb2",
   "metadata": {},
   "outputs": [],
   "source": [
    "# 一个正整数数组（长度在百级别）arr，数组满足 0 <= arr[i] <= 9\n",
    "# 挑出任意个数，组成一个最大数，并且这个数能被 3 整除\n",
    "# 返回这个数的字符串形式，如果不能组成这样的数，返回 \"0\"\n",
    "# arr=[3, 6, 7]\n",
    "# rusult=\"63\"\n",
    "def largest_divisible_by_three(arr):\n",
    "    arr.sort(reverse=True)\n",
    "    total = sum(arr)\n",
    "    mod1, mod2 = [], []\n",
    "    for num in arr:\n",
    "        if num % 3 == 1:\n",
    "            mod1.append(num)\n",
    "        elif num % 3 == 2:\n",
    "            mod2.append(num)\n",
    "    if total % 3 == 1:\n",
    "        if mod1:\n",
    "            arr.remove(mod1[-1])\n",
    "        elif len(mod2) >= 2:\n",
    "            arr.remove(mod2[-1])\n",
    "            arr.remove(mod2[-2])\n",
    "        else:\n",
    "            return \"0\"\n",
    "    elif total % 3 == 2:\n",
    "        if mod2:\n",
    "            arr.remove(mod2[-1])\n",
    "        elif len(mod1) >= 2:\n",
    "            arr.remove(mod1[-1])\n",
    "            arr.remove(mod1[-2])\n",
    "        else:\n",
    "            return \"0\"\n",
    "    if not arr or all(x == 0 for x in arr):\n",
    "        return \"0\"\n",
    "    return ''.join(map(str, arr))"
   ]
  }
 ],
 "metadata": {
  "kernelspec": {
   "display_name": "base",
   "language": "python",
   "name": "python3"
  },
  "language_info": {
   "codemirror_mode": {
    "name": "ipython",
    "version": 3
   },
   "file_extension": ".py",
   "mimetype": "text/x-python",
   "name": "python",
   "nbconvert_exporter": "python",
   "pygments_lexer": "ipython3",
   "version": "3.12.4"
  }
 },
 "nbformat": 4,
 "nbformat_minor": 5
}
